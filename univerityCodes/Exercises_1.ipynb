{
 "cells": [
  {
   "cell_type": "markdown",
   "id": "2a6311fb",
   "metadata": {},
   "source": [
    "# Python Exercises:"
   ]
  },
  {
   "cell_type": "markdown",
   "id": "84bb84f7",
   "metadata": {},
   "source": [
    "### Task 1:"
   ]
  },
  {
   "cell_type": "code",
   "execution_count": null,
   "id": "58410f43",
   "metadata": {},
   "outputs": [],
   "source": [
    "#qustion: Read two numbers as user input and output their sum, product, \n",
    "#difference and quotient. Make sure that the calculated \n",
    "#result for the division is correct!\n",
    "numType = input(\"please enter the type of number you are willing to enter:\\n (n -> int, f-> float, c->complex )\")\n",
    "printRes = True\n",
    "if numType == 'n':\n",
    "    num1 = int(input(\"Please input the first number: \"))\n",
    "    while(True):\n",
    "        num2 = int(input (\"please input the second number: \"))\n",
    "        if num2 == 0:\n",
    "            print(\"The second number cannnot be 0.\\n\")\n",
    "        else:\n",
    "            break\n",
    "elif numType == 'f':\n",
    "    num1 = float(input(\"Please input the first number: \"))\n",
    "    while(True):\n",
    "        num2 = float(input (\"please input the second number: \"))\n",
    "        if num2 == 0:\n",
    "            print(\"The second number cannnot be 0.\\n\")\n",
    "        else:\n",
    "            break\n",
    "elif numType == 'c':\n",
    "    \n",
    "    num1_1 = float(input(\"Please input the real part of the first number: \"))\n",
    "    num1_2 = float(input(\"Please input the imaginary part of the first number: \"))\n",
    "    while(True):\n",
    "        num2_1 = float(input (\"please input the real part of the second number: \"))\n",
    "        num2_2 = float(input (\"please input the imaginary part of the second number: \"))\n",
    "        if num2_1 == 0 and num2_2 == 0:\n",
    "            print(\"Both real and imaginary part of the second number cannnot be 0.\\n\")\n",
    "        else:\n",
    "            break\n",
    "    num1 = complex(num1_1,num1_2)\n",
    "    num2 = complex (num2_1,num2_2)\n",
    "else:\n",
    "    print(\"The input is not defined.The program is terminated.\")\n",
    "    printRes = False\n",
    "if (printRes):\n",
    "    print(\"sum: \", num1 + num2)\n",
    "    print(\"product: \", num1 * num2)\n",
    "    print(\"difference: \", num1 - num2)\n",
    "    print(\"quotient: \", num1/num2)"
   ]
  },
  {
   "cell_type": "markdown",
   "id": "57f82264",
   "metadata": {},
   "source": [
    "### Task 2:\n"
   ]
  },
  {
   "cell_type": "code",
   "execution_count": null,
   "id": "46074fd2",
   "metadata": {},
   "outputs": [],
   "source": [
    "#question: This program is designed to calculate the tax rate\n",
    "# of each taxpayer. Read the income as user input and\n",
    "#then output the taxes to be paid\n",
    "income = int(input(\"Please enter the income: \"))\n",
    "if income >= 0 and income <= 10000:\n",
    "    print(\"The tax that must be paid is \", 0.4 * income)\n",
    "elif income > 10000 and income <= 30000:\n",
    "    print(\"The tax that must be paid is \", 0.55 * income)\n",
    "elif income > 30000 and income <= 70000:\n",
    "    print(\"The tax that must be paid is \", 0.75 * income)\n",
    "elif income > 70000:\n",
    "    print(\"The tax that must be paid is \", 0.82 * income)\n",
    "else: \n",
    "    print(\"the value that is entered for the income is invalid! The program is terminated.\")"
   ]
  },
  {
   "cell_type": "markdown",
   "id": "590206b2",
   "metadata": {},
   "source": [
    "### Task 3:"
   ]
  },
  {
   "cell_type": "code",
   "execution_count": 6,
   "id": "a3158aa1",
   "metadata": {},
   "outputs": [
    {
     "name": "stdout",
     "output_type": "stream",
     "text": [
      "Please enter the list of numbers(press enter after inputting each) and in the end just press enter at the empty input: \n",
      "2\n",
      "4\n",
      "5\n",
      "\n",
      "the sum is  11.0\n"
     ]
    }
   ],
   "source": [
    "#question: Write a Python script that, given a list of numbers\n",
    "#, computes and outputs the sum of all elements.\n",
    "print(\"Please enter the list of numbers(press enter after inputting each) and in the end just press enter at the empty input: \")\n",
    "s = 0;\n",
    "while(True):\n",
    "    inp = input()\n",
    "    if (not inp):\n",
    "        break\n",
    "    else:\n",
    "        s = s + float(inp)\n",
    "print (\"the sum is \", s);"
   ]
  },
  {
   "cell_type": "code",
   "execution_count": 7,
   "id": "df26e434",
   "metadata": {},
   "outputs": [
    {
     "name": "stdout",
     "output_type": "stream",
     "text": [
      "4\n",
      "5\n",
      "5\n",
      "6\n",
      "64\n",
      "\n",
      "84.0\n"
     ]
    }
   ],
   "source": [
    "#another solution for task 3\n",
    "try:\n",
    "    listOfNumbers = []\n",
    "    while True:\n",
    "        listOfNumbers.append(float(input()))\n",
    "except:\n",
    "    print(sum(listOfNumbers))"
   ]
  },
  {
   "cell_type": "markdown",
   "id": "05768f49",
   "metadata": {},
   "source": [
    "### Task4:"
   ]
  },
  {
   "cell_type": "code",
   "execution_count": 3,
   "id": "307e0a2f",
   "metadata": {},
   "outputs": [
    {
     "name": "stdout",
     "output_type": "stream",
     "text": [
      "The number of elemnts is  23\n"
     ]
    }
   ],
   "source": [
    "#Find the set of natural numbers below 1000 that have 2, 3, and 7 as \n",
    "#divisors. How many are there? \n",
    "lis = [n for n in range (1,1001) if n %2 == 0 and n%3 == 0 and n%7 == 0 ]\n",
    "print(\"The number of elemnts is \", len(lis))"
   ]
  },
  {
   "cell_type": "code",
   "execution_count": 4,
   "id": "60d2f0c1",
   "metadata": {},
   "outputs": [
    {
     "name": "stdout",
     "output_type": "stream",
     "text": [
      "The number of elemnts is  23\n"
     ]
    }
   ],
   "source": [
    "#sol2\n",
    "lis2 = [n for n in range(1,1001) if n%42 == 0] # divisible by 2 and 3 and 7\n",
    "print(\"The number of elemnts is \", len(lis2))"
   ]
  }
 ],
 "metadata": {
  "kernelspec": {
   "display_name": "Python 3 (ipykernel)",
   "language": "python",
   "name": "python3"
  },
  "language_info": {
   "codemirror_mode": {
    "name": "ipython",
    "version": 3
   },
   "file_extension": ".py",
   "mimetype": "text/x-python",
   "name": "python",
   "nbconvert_exporter": "python",
   "pygments_lexer": "ipython3",
   "version": "3.9.13"
  }
 },
 "nbformat": 4,
 "nbformat_minor": 5
}
