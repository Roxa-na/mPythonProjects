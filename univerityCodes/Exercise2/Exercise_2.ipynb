{
 "cells": [
  {
   "cell_type": "markdown",
   "id": "e64ca5e0",
   "metadata": {},
   "source": [
    "# Python Exercises"
   ]
  },
  {
   "cell_type": "markdown",
   "id": "79062062",
   "metadata": {},
   "source": [
    "### Task1:"
   ]
  },
  {
   "cell_type": "code",
   "execution_count": 14,
   "id": "030bc808",
   "metadata": {},
   "outputs": [
    {
     "name": "stdout",
     "output_type": "stream",
     "text": [
      "False\n",
      "True\n"
     ]
    }
   ],
   "source": [
    "#Write a function is_palindrome(string) that tests a string, whether it's a \n",
    "#palindrome (return value true) or not (false is returned)\n",
    "\n",
    "def is_palindrome(sStr):\n",
    "    sStr = sStr.lower()\n",
    "    return sStr == sStr[::-1]\n",
    "print(is_palindrome(\"MadamI'mAdam\"))\n",
    "print(is_palindrome(\"MadamImAdam\"))\n",
    "        "
   ]
  },
  {
   "cell_type": "markdown",
   "id": "e0850dfa",
   "metadata": {},
   "source": [
    "### Task2: "
   ]
  },
  {
   "cell_type": "code",
   "execution_count": 22,
   "id": "5bcaed96",
   "metadata": {},
   "outputs": [
    {
     "name": "stdout",
     "output_type": "stream",
     "text": [
      "Please input two arrays(once you are finished with one vector just press enter to input the next one): \n",
      "\n",
      "2\n",
      "\n",
      "3\n",
      "6\n",
      "9\n",
      "\n",
      "The scalar product is 6.0\n"
     ]
    }
   ],
   "source": [
    "#Implement a function scalar(vector1, vector2) that calculates the \n",
    "#scalar product of two vectors (implemented as lists) of arbitrary\n",
    "#length (size) (without using numpy!).\n",
    "\n",
    "def scalar(lVector1,lVector2):\n",
    "    s = 0\n",
    "    if len(lVector1) > len(lVector2):\n",
    "        for i in range(len(lVector1) - len(lVector2)):\n",
    "            lVector2.append(0)\n",
    "    elif len(lVector1) < len(lVector2):\n",
    "        for i in range(len(lVector2) - len(lVector1)):\n",
    "            lVector1.append(0)\n",
    "            \n",
    "    for a in range(0,len(lVector1)):\n",
    "        s += lVector1[a]*lVector2[a]\n",
    "            \n",
    "    print(\"The scalar product is\", s)\n",
    "    \n",
    "    \n",
    "print(\"Please input two arrays(once you are finished with one vector just press enter to input the next one): \\n\")\n",
    "vector1 = []\n",
    "vector2 = []\n",
    "\n",
    "while(True):\n",
    "    inp = input()\n",
    "    if (not inp):\n",
    "        break\n",
    "    else:\n",
    "       vector1.append(float(inp))\n",
    "\n",
    "while(True):\n",
    "    inp = input()\n",
    "    if (not inp):\n",
    "        break\n",
    "    else:\n",
    "       vector2.append(float(inp))\n",
    "    \n",
    "scalar(vector1,vector2)"
   ]
  },
  {
   "cell_type": "code",
   "execution_count": 25,
   "id": "8a89b120",
   "metadata": {},
   "outputs": [
    {
     "name": "stdout",
     "output_type": "stream",
     "text": [
      "Please input two arrays(once you are finished with one vector just press enter to input the next one): \n",
      "\n",
      "2\n",
      "3\n",
      "\n",
      "3\n",
      "6\n",
      "2\n",
      "1\n",
      "\n",
      "The scalar product is 24.0\n"
     ]
    }
   ],
   "source": [
    "#task2 version 2\n",
    "def scalar(lVector1,lVector2):\n",
    "    s = 0\n",
    "    length = 0;\n",
    "    if len(lVector1) > len(lVector2):\n",
    "        length = len(lVector2)\n",
    "    elif len(lVector1) < len(lVector2):\n",
    "        length = len(lVector1)\n",
    "    else:\n",
    "        length = len(lVector2)\n",
    "            \n",
    "    for a in range(0,length):\n",
    "        s += lVector1[a]*lVector2[a]\n",
    "            \n",
    "    print(\"The scalar product is\", s)\n",
    "    \n",
    "    \n",
    "print(\"Please input two arrays(once you are finished with one vector just press enter to input the next one): \\n\")\n",
    "vector1 = []\n",
    "vector2 = []\n",
    "\n",
    "while(True):\n",
    "    inp = input()\n",
    "    if (not inp):\n",
    "        break\n",
    "    else:\n",
    "       vector1.append(float(inp))\n",
    "\n",
    "while(True):\n",
    "    inp = input()\n",
    "    if (not inp):\n",
    "        break\n",
    "    else:\n",
    "       vector2.append(float(inp))\n",
    "    \n",
    "scalar(vector1,vector2)"
   ]
  },
  {
   "cell_type": "markdown",
   "id": "3a3ee4ca",
   "metadata": {},
   "source": [
    "### Task3:"
   ]
  },
  {
   "cell_type": "code",
   "execution_count": 33,
   "id": "da07ec9a",
   "metadata": {},
   "outputs": [
    {
     "name": "stdout",
     "output_type": "stream",
     "text": [
      "352\n"
     ]
    }
   ],
   "source": [
    "#Write a program that implements the Ethiopian multiplication algorithm for 2 integers\n",
    "#The left number is now halved for each underlying row, decimal places are\n",
    "#truncated. The right number, however, is doubled line by line. This is operated\n",
    "#until the left number is equal to 1\n",
    "#Now all lines are crossed out, where the left number is even (that is, divisible by 2).\n",
    "# Of the remaining lines, the right numbers are added\n",
    "def Ethiopian_multiplication(num1,num2):\n",
    "    s1 = 0\n",
    "    n = 0\n",
    "    while (num1 >0):\n",
    "        if (num1 % 2 != 0):\n",
    "            s1 = s1 + num2* (2**n)\n",
    "        num1 = int(num1/2)\n",
    "        n = n+1\n",
    "    print(s1)\n",
    "Ethiopian_multiplication(88,4)"
   ]
  },
  {
   "cell_type": "code",
   "execution_count": null,
   "id": "b5852a8b",
   "metadata": {},
   "outputs": [],
   "source": []
  }
 ],
 "metadata": {
  "kernelspec": {
   "display_name": "Python 3 (ipykernel)",
   "language": "python",
   "name": "python3"
  },
  "language_info": {
   "codemirror_mode": {
    "name": "ipython",
    "version": 3
   },
   "file_extension": ".py",
   "mimetype": "text/x-python",
   "name": "python",
   "nbconvert_exporter": "python",
   "pygments_lexer": "ipython3",
   "version": "3.9.13"
  }
 },
 "nbformat": 4,
 "nbformat_minor": 5
}
